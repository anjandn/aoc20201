{
 "cells": [
  {
   "cell_type": "code",
   "execution_count": 13,
   "metadata": {},
   "outputs": [],
   "source": [
    "import numpy as np"
   ]
  },
  {
   "cell_type": "markdown",
   "metadata": {},
   "source": [
    "# Day 1"
   ]
  },
  {
   "cell_type": "code",
   "execution_count": 28,
   "metadata": {},
   "outputs": [],
   "source": [
    "f = open(\"input1.txt\")\n",
    "lines =f.readlines()\n",
    "depth=np.array([int(x.strip()) for x in lines])"
   ]
  },
  {
   "cell_type": "code",
   "execution_count": 21,
   "metadata": {},
   "outputs": [],
   "source": [
    "def num_increase(arr1):\n",
    "    return np.sum((arr1[1:] - arr1[:-1])>0)"
   ]
  },
  {
   "cell_type": "code",
   "execution_count": 24,
   "metadata": {},
   "outputs": [
    {
     "data": {
      "text/plain": [
       "1529"
      ]
     },
     "execution_count": 24,
     "metadata": {},
     "output_type": "execute_result"
    }
   ],
   "source": [
    "num_increase(depth)"
   ]
  },
  {
   "cell_type": "code",
   "execution_count": 26,
   "metadata": {},
   "outputs": [
    {
     "data": {
      "text/plain": [
       "1567"
      ]
     },
     "execution_count": 26,
     "metadata": {},
     "output_type": "execute_result"
    }
   ],
   "source": [
    "threesum_depth = (depth[2:] + depth[1:-1] + depth[:-2])\n",
    "num_increase(threesum_depth)"
   ]
  },
  {
   "cell_type": "markdown",
   "metadata": {},
   "source": [
    "# Day 2"
   ]
  },
  {
   "cell_type": "code",
   "execution_count": 35,
   "metadata": {},
   "outputs": [],
   "source": [
    "f = open(\"input2.txt\")\n",
    "lines =f.readlines()\n",
    "dist = np.array([int(x.strip().split()[1]) for x in lines])\n",
    "instr = [x.strip().split() for x in lines]\n",
    "instr = [(x,int(y)) for x,y in instr]"
   ]
  },
  {
   "cell_type": "code",
   "execution_count": 41,
   "metadata": {},
   "outputs": [],
   "source": [
    "class Sub:\n",
    "    def __init__(self):\n",
    "        self.depth = 0\n",
    "        self.pos = 0\n",
    "    def apply(self, d, val):\n",
    "        if d == \"forward\":\n",
    "            self.pos += val\n",
    "        elif d == \"down\":\n",
    "            self.depth += val\n",
    "        elif d == \"up\":\n",
    "            self.depth -= val\n"
   ]
  },
  {
   "cell_type": "code",
   "execution_count": 43,
   "metadata": {},
   "outputs": [
    {
     "name": "stdout",
     "output_type": "stream",
     "text": [
      "1250395\n"
     ]
    }
   ],
   "source": [
    "sub = Sub();\n",
    "for x in instr:\n",
    "    sub.apply(*x) \n",
    "print( sub.depth * sub.pos)"
   ]
  },
  {
   "cell_type": "code",
   "execution_count": 46,
   "metadata": {},
   "outputs": [],
   "source": [
    "class Sub2:\n",
    "    def __init__(self):\n",
    "        self.depth = 0\n",
    "        self.pos = 0\n",
    "        self.aim = 0\n",
    "    def apply(self, d, X):\n",
    "        if d == \"forward\":\n",
    "            self.pos += X\n",
    "            self.depth += self.aim*X\n",
    "        elif d == \"down\":\n",
    "            self.aim += X\n",
    "        elif d == \"up\":\n",
    "            self.aim -= X\n"
   ]
  },
  {
   "cell_type": "code",
   "execution_count": 47,
   "metadata": {},
   "outputs": [
    {
     "name": "stdout",
     "output_type": "stream",
     "text": [
      "1451210346\n"
     ]
    }
   ],
   "source": [
    "sub = Sub2();\n",
    "for x in instr:\n",
    "    sub.apply(*x) \n",
    "print( sub.depth * sub.pos)"
   ]
  },
  {
   "cell_type": "markdown",
   "metadata": {},
   "source": [
    "# Day 3"
   ]
  },
  {
   "cell_type": "code",
   "execution_count": 89,
   "metadata": {},
   "outputs": [],
   "source": [
    "rep = \"\"\"\n",
    "00100\n",
    "11110\n",
    "10110\n",
    "10111\n",
    "10101\n",
    "01111\n",
    "00111\n",
    "11100\n",
    "10000\n",
    "11001\n",
    "00010\n",
    "01010\n",
    "\"\"\".split()\n",
    "bits = np.array([list(x) for x in rep], dtype=int)"
   ]
  },
  {
   "cell_type": "code",
   "execution_count": 113,
   "metadata": {},
   "outputs": [],
   "source": [
    "f = open(\"input3.txt\")\n",
    "lines =f.readlines()\n",
    "bits = np.array([list(x.strip()) for x in lines], dtype=int)"
   ]
  },
  {
   "cell_type": "code",
   "execution_count": 114,
   "metadata": {},
   "outputs": [],
   "source": [
    "def maj(col):\n",
    "    return 1 if (sum(col)>=len(col)/2) else 0\n",
    "def mino(col):\n",
    "    return 0 if (sum(col)>=len(col)/2) else 1\n",
    "def convert(bbits):\n",
    "    return sum(bbits*(2**(np.arange(len(bbits))[::-1])))"
   ]
  },
  {
   "cell_type": "code",
   "execution_count": 115,
   "metadata": {},
   "outputs": [],
   "source": [
    "gamma_bits = np.array([maj(col) for col in bits.T])\n",
    "epsilon_bits = np.array([mino(col) for col in bits.T])"
   ]
  },
  {
   "cell_type": "code",
   "execution_count": 116,
   "metadata": {},
   "outputs": [
    {
     "data": {
      "text/plain": [
       "2972336"
      ]
     },
     "execution_count": 116,
     "metadata": {},
     "output_type": "execute_result"
    }
   ],
   "source": [
    "convert(gamma_bits)*convert(epsilon_bits)"
   ]
  },
  {
   "cell_type": "code",
   "execution_count": 117,
   "metadata": {},
   "outputs": [],
   "source": [
    "def filter(abits, pos, value):\n",
    "    return abits[abits[:,pos] == value]"
   ]
  },
  {
   "cell_type": "code",
   "execution_count": 118,
   "metadata": {},
   "outputs": [],
   "source": [
    "def oxy_co2(argbits, colop):\n",
    "    abits = np.copy(argbits)\n",
    "    pos = 0\n",
    "    while len(abits)>1:\n",
    "        abits = filter(abits, pos, colop(abits[:,pos]))\n",
    "        pos += 1\n",
    "    return convert(abits[0])"
   ]
  },
  {
   "cell_type": "code",
   "execution_count": 119,
   "metadata": {},
   "outputs": [],
   "source": [
    "oxygen_rating = lambda x: oxy_co2(x, maj)\n",
    "co2_rating = lambda x: oxy_co2(x, mino)"
   ]
  },
  {
   "cell_type": "code",
   "execution_count": 120,
   "metadata": {},
   "outputs": [
    {
     "data": {
      "text/plain": [
       "3368358"
      ]
     },
     "execution_count": 120,
     "metadata": {},
     "output_type": "execute_result"
    }
   ],
   "source": [
    "oxygen_rating(bits)*co2_rating(bits)"
   ]
  },
  {
   "cell_type": "markdown",
   "metadata": {},
   "source": [
    "# Day 4"
   ]
  },
  {
   "cell_type": "code",
   "execution_count": 248,
   "metadata": {},
   "outputs": [
    {
     "data": {
      "text/plain": [
       "['7,4,9,5,11,17,23,2,0,14,21,24,10,16,13,6,15,25,12,22,18,20,8,19,3,26,1',\n",
       " '',\n",
       " '22 13 17 11  0',\n",
       " ' 8  2 23  4 24',\n",
       " '21  9 14 16  7',\n",
       " ' 6 10  3 18  5',\n",
       " ' 1 12 20 15 19',\n",
       " '',\n",
       " ' 3 15  0  2 22',\n",
       " ' 9 18 13 17  5',\n",
       " '19  8  7 25 23',\n",
       " '20 11 10 24  4',\n",
       " '14 21 16 12  6',\n",
       " '',\n",
       " '14 21 17 24  4',\n",
       " '10 16 15  9 19',\n",
       " '18  8 23 26 20',\n",
       " '22 11 13  6  5',\n",
       " ' 2  0 12  3  7']"
      ]
     },
     "execution_count": 248,
     "metadata": {},
     "output_type": "execute_result"
    }
   ],
   "source": [
    "lines = \"\"\"7,4,9,5,11,17,23,2,0,14,21,24,10,16,13,6,15,25,12,22,18,20,8,19,3,26,1\n",
    "\n",
    "22 13 17 11  0\n",
    " 8  2 23  4 24\n",
    "21  9 14 16  7\n",
    " 6 10  3 18  5\n",
    " 1 12 20 15 19\n",
    "\n",
    " 3 15  0  2 22\n",
    " 9 18 13 17  5\n",
    "19  8  7 25 23\n",
    "20 11 10 24  4\n",
    "14 21 16 12  6\n",
    "\n",
    "14 21 17 24  4\n",
    "10 16 15  9 19\n",
    "18  8 23 26 20\n",
    "22 11 13  6  5\n",
    " 2  0 12  3  7\"\"\"\n",
    "lines = lines.split(\"\\n\")\n",
    "lines"
   ]
  },
  {
   "cell_type": "code",
   "execution_count": 283,
   "metadata": {},
   "outputs": [],
   "source": [
    "f = open(\"input4.txt\")\n",
    "lines =f.readlines()\n",
    "lines = [x.strip()  for x in lines]"
   ]
  },
  {
   "cell_type": "code",
   "execution_count": 284,
   "metadata": {},
   "outputs": [],
   "source": [
    "bingo_nums = [ int(x) for x in lines[0].split(\",\")]"
   ]
  },
  {
   "cell_type": "code",
   "execution_count": 285,
   "metadata": {},
   "outputs": [],
   "source": [
    "lines=lines[1:]"
   ]
  },
  {
   "cell_type": "code",
   "execution_count": 286,
   "metadata": {},
   "outputs": [],
   "source": [
    "num_boards = len(lines)//6\n",
    "boards =[]\n",
    "bingos = []\n",
    "for i in range(num_boards):\n",
    "    board = lines[i*6+1:i*6+6]\n",
    "    board = [[int(y) for y in x.split()] for x in board]\n",
    "    boards +=[ board ]\n",
    "    bingos += [np.ones((5,5))>1]\n",
    "boards = np.array(boards)\n",
    "bingos = np.array(bingos)"
   ]
  },
  {
   "cell_type": "code",
   "execution_count": null,
   "metadata": {},
   "outputs": [],
   "source": []
  },
  {
   "cell_type": "code",
   "execution_count": 287,
   "metadata": {},
   "outputs": [
    {
     "name": "stdout",
     "output_type": "stream",
     "text": [
      "49 35711\n",
      "14 72268\n",
      "56 85360\n",
      "76 47488\n",
      "90 27047\n",
      "57 7940\n",
      "80 63832\n",
      "8 19318\n",
      "25 34731\n",
      "39 34032\n",
      "11 3805\n",
      "32 43946\n",
      "99 32021\n",
      "38 42282\n",
      "73 28938\n",
      "1 45315\n",
      "48 24210\n",
      "6 39410\n",
      "3 6006\n",
      "27 4979\n",
      "2 29550\n",
      "79 36992\n",
      "10 30456\n",
      "13 30393\n",
      "50 10912\n",
      "15 24158\n",
      "7 5268\n",
      "33 515\n",
      "20 17760\n",
      "37 22632\n",
      "24 1584\n",
      "31 3186\n",
      "0 50248\n",
      "16 24300\n",
      "59 34611\n",
      "97 39936\n",
      "12 25515\n",
      "18 29766\n",
      "35 7938\n",
      "81 11664\n",
      "5 27288\n",
      "17 14364\n",
      "86 0\n",
      "40 13936\n",
      "30 5586\n"
     ]
    }
   ],
   "source": [
    "i=0\n",
    "win_already = np.zeros(num_boards)>1\n",
    "while not win_already.all():\n",
    "    any_win = False\n",
    "    while not any_win:\n",
    "        bingos = bingos | (boards==bingo_nums[i])\n",
    "        win = (bingos.all(axis = 1).any(axis=1)  | bingos.all(axis = 2).any(axis=1)) * (1-win_already)\n",
    "        any_win = win.any()\n",
    "        i+=1\n",
    "    win_already = win_already|win\n",
    "    win_idx = np.where(win)[0][0]\n",
    "    win_board= boards[win_idx]\n",
    "    win_bingo= bingos[win_idx]\n",
    "    win_number = np.sum(win_board*(1-win_bingo))*bingo_nums[i-1]\n",
    "    print(win_idx,win_number)\n"
   ]
  },
  {
   "cell_type": "markdown",
   "metadata": {},
   "source": [
    "# Day 5"
   ]
  },
  {
   "cell_type": "code",
   "execution_count": 421,
   "metadata": {},
   "outputs": [
    {
     "data": {
      "text/plain": [
       "['0,9 -> 5,9',\n",
       " '8,0 -> 0,8',\n",
       " '9,4 -> 3,4',\n",
       " '2,2 -> 2,1',\n",
       " '7,0 -> 7,4',\n",
       " '6,4 -> 2,0',\n",
       " '0,9 -> 2,9',\n",
       " '3,4 -> 1,4',\n",
       " '0,0 -> 8,8',\n",
       " '5,5 -> 8,2']"
      ]
     },
     "execution_count": 421,
     "metadata": {},
     "output_type": "execute_result"
    }
   ],
   "source": [
    "lines = \"\"\"0,9 -> 5,9\n",
    "8,0 -> 0,8\n",
    "9,4 -> 3,4\n",
    "2,2 -> 2,1\n",
    "7,0 -> 7,4\n",
    "6,4 -> 2,0\n",
    "0,9 -> 2,9\n",
    "3,4 -> 1,4\n",
    "0,0 -> 8,8\n",
    "5,5 -> 8,2\"\"\"\n",
    "lines = lines.split(\"\\n\")\n",
    "lines"
   ]
  },
  {
   "cell_type": "code",
   "execution_count": 441,
   "metadata": {},
   "outputs": [],
   "source": [
    "f = open(\"input5.txt\")\n",
    "lines =f.readlines()\n",
    "lines = [x.strip()  for x in lines]\n",
    "#lines"
   ]
  },
  {
   "cell_type": "code",
   "execution_count": 442,
   "metadata": {},
   "outputs": [],
   "source": [
    "parse = lambda x: [int(y) for y in x.split(\",\")]\n",
    "a=[ x.split(\" -> \") for x in lines]\n",
    "b =np.array([ [parse(x),parse(y)] for x,y in a])"
   ]
  },
  {
   "cell_type": "code",
   "execution_count": 443,
   "metadata": {},
   "outputs": [],
   "source": [
    "c= np.array([ x  for p in b for x in p])\n",
    "grid = np.zeros(c.max(axis=0)+1)"
   ]
  },
  {
   "cell_type": "code",
   "execution_count": 444,
   "metadata": {},
   "outputs": [],
   "source": [
    "for start,end in b:\n",
    "    if (start == end)[1]:\n",
    "        grid[min(start[0],end[0]):max(start[0],end[0]),start[1]]+=1\n",
    "        grid[max(start[0],end[0]),start[1]]+=1\n",
    "    elif (start == end)[0] :\n",
    "        grid[start[0],min(start[1],end[1]):max(start[1],end[1])]+=1\n",
    "        grid[start[0],max(start[1],end[1])]+=1\n"
   ]
  },
  {
   "cell_type": "code",
   "execution_count": 445,
   "metadata": {},
   "outputs": [
    {
     "data": {
      "text/plain": [
       "array([[0., 0., 0., ..., 0., 0., 0.],\n",
       "       [0., 0., 0., ..., 0., 0., 0.],\n",
       "       [0., 0., 0., ..., 0., 0., 0.],\n",
       "       ...,\n",
       "       [0., 0., 0., ..., 0., 0., 0.],\n",
       "       [0., 0., 0., ..., 0., 0., 0.],\n",
       "       [0., 0., 0., ..., 0., 0., 0.]])"
      ]
     },
     "execution_count": 445,
     "metadata": {},
     "output_type": "execute_result"
    }
   ],
   "source": [
    "grid.T"
   ]
  },
  {
   "cell_type": "code",
   "execution_count": 446,
   "metadata": {},
   "outputs": [
    {
     "data": {
      "text/plain": [
       "8622"
      ]
     },
     "execution_count": 446,
     "metadata": {},
     "output_type": "execute_result"
    }
   ],
   "source": [
    "np.sum(grid>=2)"
   ]
  },
  {
   "cell_type": "code",
   "execution_count": 447,
   "metadata": {},
   "outputs": [],
   "source": [
    "def line(start,end):\n",
    "    val = start.copy()\n",
    "    vals = [val.copy()]\n",
    "    while not (val == end).all():\n",
    "        val+=1-2*(start>end)\n",
    "        vals+=[val.copy()]\n",
    "    return np.array(vals).T"
   ]
  },
  {
   "cell_type": "code",
   "execution_count": 448,
   "metadata": {},
   "outputs": [
    {
     "data": {
      "text/plain": [
       "array([3, 4, 5])"
      ]
     },
     "execution_count": 448,
     "metadata": {},
     "output_type": "execute_result"
    }
   ],
   "source": [
    "x,y = line(np.array([3,3]),np.array([5,5]))\n",
    "x"
   ]
  },
  {
   "cell_type": "code",
   "execution_count": 449,
   "metadata": {},
   "outputs": [],
   "source": [
    "grid = np.zeros(c.max(axis=0)+1)"
   ]
  },
  {
   "cell_type": "code",
   "execution_count": 450,
   "metadata": {},
   "outputs": [],
   "source": [
    "for start,end in b:\n",
    "    if (start == end)[1]:\n",
    "        grid[min(start[0],end[0]):max(start[0],end[0]),start[1]]+=1\n",
    "        grid[max(start[0],end[0]),start[1]]+=1\n",
    "    elif (start == end)[0] :\n",
    "        grid[start[0],min(start[1],end[1]):max(start[1],end[1])]+=1\n",
    "        grid[start[0],max(start[1],end[1])]+=1\n",
    "    else:\n",
    "        x,y = line(start,end)\n",
    "        grid[x,y]+=1"
   ]
  },
  {
   "cell_type": "code",
   "execution_count": 451,
   "metadata": {},
   "outputs": [
    {
     "data": {
      "text/plain": [
       "array([[0., 0., 0., ..., 0., 0., 0.],\n",
       "       [0., 0., 0., ..., 0., 0., 0.],\n",
       "       [0., 0., 0., ..., 0., 0., 0.],\n",
       "       ...,\n",
       "       [0., 0., 0., ..., 0., 0., 0.],\n",
       "       [0., 0., 0., ..., 0., 0., 0.],\n",
       "       [0., 0., 0., ..., 0., 0., 0.]])"
      ]
     },
     "execution_count": 451,
     "metadata": {},
     "output_type": "execute_result"
    }
   ],
   "source": [
    "grid.T"
   ]
  },
  {
   "cell_type": "code",
   "execution_count": 452,
   "metadata": {},
   "outputs": [
    {
     "data": {
      "text/plain": [
       "22037"
      ]
     },
     "execution_count": 452,
     "metadata": {},
     "output_type": "execute_result"
    }
   ],
   "source": [
    "np.sum(grid>=2)"
   ]
  },
  {
   "cell_type": "markdown",
   "metadata": {},
   "source": [
    "# Day 6"
   ]
  },
  {
   "cell_type": "code",
   "execution_count": 518,
   "metadata": {},
   "outputs": [
    {
     "data": {
      "text/plain": [
       "'3,4,3,1,2'"
      ]
     },
     "execution_count": 518,
     "metadata": {},
     "output_type": "execute_result"
    }
   ],
   "source": [
    "line =\"3,4,3,1,2\"\n",
    "line"
   ]
  },
  {
   "cell_type": "code",
   "execution_count": 524,
   "metadata": {},
   "outputs": [
    {
     "data": {
      "text/plain": [
       "'1,1,3,1,3,2,1,3,1,1,3,1,1,2,1,3,1,1,3,5,1,1,1,3,1,2,1,1,1,1,4,4,1,2,1,2,1,1,1,5,3,2,1,5,2,5,3,3,2,2,5,4,1,1,4,4,1,1,1,1,1,1,5,1,2,4,3,2,2,2,2,1,4,1,1,5,1,3,4,4,1,1,3,3,5,5,3,1,3,3,3,1,4,2,2,1,3,4,1,4,3,3,2,3,1,1,1,5,3,1,4,2,2,3,1,3,1,2,3,3,1,4,2,2,4,1,3,1,1,1,1,1,2,1,3,3,1,2,1,1,3,4,1,1,1,1,5,1,1,5,1,1,1,4,1,5,3,1,1,3,2,1,1,3,1,1,1,5,4,3,3,5,1,3,4,3,3,1,4,4,1,2,1,1,2,1,1,1,2,1,1,1,1,1,5,1,1,2,1,5,2,1,1,2,3,2,3,1,3,1,1,1,5,1,1,2,1,1,1,1,3,4,5,3,1,4,1,1,4,1,4,1,1,1,4,5,1,1,1,4,1,3,2,2,1,1,2,3,1,4,3,5,1,5,1,1,4,5,5,1,1,3,3,1,1,1,1,5,5,3,3,2,4,1,1,1,1,1,5,1,1,2,5,5,4,2,4,4,1,1,3,3,1,5,1,1,1,1,1,1'"
      ]
     },
     "execution_count": 524,
     "metadata": {},
     "output_type": "execute_result"
    }
   ],
   "source": [
    "f = open(\"input6.txt\")\n",
    "lines =f.readlines()\n",
    "line = lines[0].strip()\n",
    "line"
   ]
  },
  {
   "cell_type": "code",
   "execution_count": 525,
   "metadata": {},
   "outputs": [],
   "source": [
    "ages = [int(x) for x in line.split(\",\")]"
   ]
  },
  {
   "cell_type": "code",
   "execution_count": 526,
   "metadata": {},
   "outputs": [],
   "source": [
    "from collections import defaultdict"
   ]
  },
  {
   "cell_type": "code",
   "execution_count": 527,
   "metadata": {},
   "outputs": [
    {
     "data": {
      "text/plain": [
       "array([1, 2, 3, 4, 5, 6, 7, 8])"
      ]
     },
     "execution_count": 527,
     "metadata": {},
     "output_type": "execute_result"
    }
   ],
   "source": [
    "np.arange(8)+1"
   ]
  },
  {
   "cell_type": "code",
   "execution_count": 528,
   "metadata": {},
   "outputs": [],
   "source": [
    "num = defaultdict(int)\n",
    "for age in ages:\n",
    "    num[age]+=1"
   ]
  },
  {
   "cell_type": "code",
   "execution_count": 529,
   "metadata": {},
   "outputs": [
    {
     "name": "stdout",
     "output_type": "stream",
     "text": [
      "1682576647495\n"
     ]
    }
   ],
   "source": [
    "for i in range(256):\n",
    "    new_num = defaultdict(int)\n",
    "    for age in np.arange(8)+1:\n",
    "        new_num[age-1] = num[age]\n",
    "    new_num[8] += num[0]\n",
    "    new_num[6] += num[0]\n",
    "    num = new_num\n",
    "print(sum([num[x] for x in range(9)]))"
   ]
  },
  {
   "cell_type": "code",
   "execution_count": null,
   "metadata": {},
   "outputs": [],
   "source": []
  }
 ],
 "metadata": {
  "kernelspec": {
   "display_name": "Python (py36)",
   "language": "python",
   "name": "py36"
  },
  "language_info": {
   "codemirror_mode": {
    "name": "ipython",
    "version": 3
   },
   "file_extension": ".py",
   "mimetype": "text/x-python",
   "name": "python",
   "nbconvert_exporter": "python",
   "pygments_lexer": "ipython3",
   "version": "3.6.9"
  }
 },
 "nbformat": 4,
 "nbformat_minor": 4
}
